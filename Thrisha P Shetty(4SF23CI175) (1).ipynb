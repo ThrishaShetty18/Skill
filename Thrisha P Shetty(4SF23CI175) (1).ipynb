{
 "cells": [
  {
   "cell_type": "code",
   "execution_count": 0,
   "metadata": {
    "application/vnd.databricks.v1+cell": {
     "cellMetadata": {
      "byteLimit": 2048000,
      "rowLimit": 10000
     },
     "inputWidgets": {},
     "nuid": "266c99d2-be43-453b-a2a1-fd45b34e5ee1",
     "showTitle": false,
     "tableResultSettingsMap": {},
     "title": ""
    }
   },
   "outputs": [
    {
     "output_type": "execute_result",
     "data": {
      "text/plain": [
       "<pyspark.sql.connect.session.SparkSession at 0xff5755c56f90>"
      ]
     },
     "execution_count": 3,
     "metadata": {},
     "output_type": "execute_result"
    }
   ],
   "source": [
    "spark"
   ]
  },
  {
   "cell_type": "code",
   "execution_count": 0,
   "metadata": {
    "application/vnd.databricks.v1+cell": {
     "cellMetadata": {
      "byteLimit": 2048000,
      "rowLimit": 10000
     },
     "inputWidgets": {},
     "nuid": "7cdc8237-ac18-46f3-962e-d244509ddada",
     "showTitle": false,
     "tableResultSettingsMap": {},
     "title": ""
    }
   },
   "outputs": [
    {
     "output_type": "stream",
     "name": "stdout",
     "output_type": "stream",
     "text": [
      "+------+------+----------+-------------+------+----------+------------+-----------------+-----+\n|Emp_ID|  Name|Department|         Role|Salary|Experience|Joining_Date|Performance_Score|Bonus|\n+------+------+----------+-------------+------+----------+------------+-----------------+-----+\n|  E101|Ananya|        HR|      Manager| 75000|         8|  2016-05-12|               89| 5000|\n|  E102| Rahul|   Finance|      Analyst| 62000|         5|  2019-07-20|               76| 3500|\n|  E103| Divya|        IT|    Developer| 55000|         3|  2021-03-14|               80| 4000|\n|  E104|Ashwin|        IT|    Developer| 58000|         4|  2020-09-11|               92| 4200|\n|  E105| Kiran|     Sales|    Executive| 48000|         2|  2022-01-05|               67| NULL|\n|  E106| Leena|   Finance|      Manager| 82000|         9|  2015-02-25|               95| 6000|\n|  E107| Sneha|        HR|    Recruiter| 50000|         3|  2021-08-18|             NULL| 3000|\n|  E108|Vikram|        IT|       Tester| 53000|         4|  2020-06-09|               73| 3200|\n|  E109| Manoj|     Sales|    Executive|  NULL|         2|  2022-03-10|               70| 2500|\n|  E110|Roshni| Marketing|    Executive| 46000|         1|  2023-02-22|               65| 2000|\n|  E111| Aarav|   Finance|        Clerk| 40000|         1|  2023-05-15|               55| 1500|\n|  E112| Priya|        IT|    Developer| 57000|         5|  2018-12-02|               88| 4100|\n|  E113|  Ravi|     Sales|      Manager| 76000|        10|  2013-09-27|               90| 5500|\n|  E114| Meena|        HR|    Executive| 47000|         2|  2022-06-30|               75| 2800|\n|  E115| Kavya|        IT|       Tester| 52000|         4|  2020-10-18|             NULL| 3100|\n|  E116|Aditya|        IT|Data Engineer| 68000|         6|  2018-07-19|               84| 4500|\n|  E117|  Neha| Marketing|      Manager| 71000|         7|  2017-04-23|               91| 5200|\n|  E118| Rohan|   Finance|      Analyst| 60000|         4|  2020-09-09|               78| NULL|\n|  E119| Tanya|     Sales|    Executive| 49000|         3|  2021-12-10|               69| 2600|\n+------+------+----------+-------------+------+----------+------------+-----------------+-----+\n\n"
     ]
    }
   ],
   "source": [
    "empdata_df=spark.read.format(\"csv\")\\\n",
    "          .option(\"header\",\"true\")\\\n",
    "          .option(\"inferschema\",\"true\")\\\n",
    "          .option(\"mode\",\"FAILFAST\")\\\n",
    "          .load(\"/Volumes/workspace/empdata/empdata/empdata.csv\")\n",
    "empdata_df.show()"
   ]
  },
  {
   "cell_type": "code",
   "execution_count": 0,
   "metadata": {
    "application/vnd.databricks.v1+cell": {
     "cellMetadata": {
      "byteLimit": 2048000,
      "rowLimit": 10000
     },
     "inputWidgets": {},
     "nuid": "e8986156-a63e-4762-a21e-d96a78366cd4",
     "showTitle": false,
     "tableResultSettingsMap": {},
     "title": ""
    }
   },
   "outputs": [
    {
     "output_type": "stream",
     "name": "stdout",
     "output_type": "stream",
     "text": [
      "+------+------+----------+-------------+------+----------+------------+-----------------+-----+\n|Emp_ID|  Name|Department|         Role|Salary|Experience|Joining_Date|Performance_Score|Bonus|\n+------+------+----------+-------------+------+----------+------------+-----------------+-----+\n|  E101|Ananya|        HR|      Manager| 75000|         8|  2016-05-12|               89| 5000|\n|  E102| Rahul|   Finance|      Analyst| 62000|         5|  2019-07-20|               76| 3500|\n|  E103| Divya|        IT|    Developer| 55000|         3|  2021-03-14|               80| 4000|\n|  E104|Ashwin|        IT|    Developer| 58000|         4|  2020-09-11|               92| 4200|\n|  E105| Kiran|     Sales|    Executive| 48000|         2|  2022-01-05|               67| NULL|\n|  E106| Leena|   Finance|      Manager| 82000|         9|  2015-02-25|               95| 6000|\n|  E107| Sneha|        HR|    Recruiter| 50000|         3|  2021-08-18|             NULL| 3000|\n|  E108|Vikram|        IT|       Tester| 53000|         4|  2020-06-09|               73| 3200|\n|  E109| Manoj|     Sales|    Executive|  NULL|         2|  2022-03-10|               70| 2500|\n|  E110|Roshni| Marketing|    Executive| 46000|         1|  2023-02-22|               65| 2000|\n|  E111| Aarav|   Finance|        Clerk| 40000|         1|  2023-05-15|               55| 1500|\n|  E112| Priya|        IT|    Developer| 57000|         5|  2018-12-02|               88| 4100|\n|  E113|  Ravi|     Sales|      Manager| 76000|        10|  2013-09-27|               90| 5500|\n|  E114| Meena|        HR|    Executive| 47000|         2|  2022-06-30|               75| 2800|\n|  E115| Kavya|        IT|       Tester| 52000|         4|  2020-10-18|             NULL| 3100|\n|  E116|Aditya|        IT|Data Engineer| 68000|         6|  2018-07-19|               84| 4500|\n|  E117|  Neha| Marketing|      Manager| 71000|         7|  2017-04-23|               91| 5200|\n|  E118| Rohan|   Finance|      Analyst| 60000|         4|  2020-09-09|               78| NULL|\n|  E119| Tanya|     Sales|    Executive| 49000|         3|  2021-12-10|               69| 2600|\n+------+------+----------+-------------+------+----------+------------+-----------------+-----+\n\n"
     ]
    }
   ],
   "source": [
    "empdata_df=spark.read.format(\"csv\")\\\n",
    "          .option(\"header\",\"true\")\\\n",
    "          .option(\"inferschema\",\"false\")\\\n",
    "          .option(\"mode\",\"PERMISSIVE\")\\\n",
    "          .load(\"/Volumes/workspace/empdata/empdata/empdata.csv\")\n",
    "empdata_df.show()\n"
   ]
  },
  {
   "cell_type": "code",
   "execution_count": 0,
   "metadata": {
    "application/vnd.databricks.v1+cell": {
     "cellMetadata": {
      "byteLimit": 2048000,
      "rowLimit": 10000
     },
     "inputWidgets": {},
     "nuid": "6a0c94d1-c9ed-4d7a-aeff-fba988af881a",
     "showTitle": false,
     "tableResultSettingsMap": {},
     "title": ""
    }
   },
   "outputs": [
    {
     "output_type": "stream",
     "name": "stdout",
     "output_type": "stream",
     "text": [
      "+------+------+----------+-------------+------+----------+------------+-----------------+-----+\n|Emp_ID|Name  |Department|Role         |Salary|Experience|Joining_Date|Performance_Score|Bonus|\n+------+------+----------+-------------+------+----------+------------+-----------------+-----+\n|E101  |Ananya|HR        |Manager      |75000 |8         |2016-05-12  |89               |5000 |\n|E102  |Rahul |Finance   |Analyst      |62000 |5         |2019-07-20  |76               |3500 |\n|E103  |Divya |IT        |Developer    |55000 |3         |2021-03-14  |80               |4000 |\n|E104  |Ashwin|IT        |Developer    |58000 |4         |2020-09-11  |92               |4200 |\n|E105  |Kiran |Sales     |Executive    |48000 |2         |2022-01-05  |67               |NULL |\n|E106  |Leena |Finance   |Manager      |82000 |9         |2015-02-25  |95               |6000 |\n|E107  |Sneha |HR        |Recruiter    |50000 |3         |2021-08-18  |NULL             |3000 |\n|E108  |Vikram|IT        |Tester       |53000 |4         |2020-06-09  |73               |3200 |\n|E109  |Manoj |Sales     |Executive    |NULL  |2         |2022-03-10  |70               |2500 |\n|E110  |Roshni|Marketing |Executive    |46000 |1         |2023-02-22  |65               |2000 |\n|E111  |Aarav |Finance   |Clerk        |40000 |1         |2023-05-15  |55               |1500 |\n|E112  |Priya |IT        |Developer    |57000 |5         |2018-12-02  |88               |4100 |\n|E113  |Ravi  |Sales     |Manager      |76000 |10        |2013-09-27  |90               |5500 |\n|E114  |Meena |HR        |Executive    |47000 |2         |2022-06-30  |75               |2800 |\n|E115  |Kavya |IT        |Tester       |52000 |4         |2020-10-18  |NULL             |3100 |\n|E116  |Aditya|IT        |Data Engineer|68000 |6         |2018-07-19  |84               |4500 |\n|E117  |Neha  |Marketing |Manager      |71000 |7         |2017-04-23  |91               |5200 |\n|E118  |Rohan |Finance   |Analyst      |60000 |4         |2020-09-09  |78               |NULL |\n|E119  |Tanya |Sales     |Executive    |49000 |3         |2021-12-10  |69               |2600 |\n+------+------+----------+-------------+------+----------+------------+-----------------+-----+\n\n"
     ]
    }
   ],
   "source": [
    "empdata_df=spark.read.format(\"csv\")\\\n",
    "          .option(\"header\",\"true\")\\\n",
    "          .option(\"inferschema\",\"false\")\\\n",
    "          .option(\"mode\",\"DROPMALFORMED\")\\\n",
    "          .load(\"/Volumes/workspace/empdata/empdata/empdata.csv\")\n",
    "empdata_df.show(truncate=False)"
   ]
  },
  {
   "cell_type": "code",
   "execution_count": 0,
   "metadata": {
    "application/vnd.databricks.v1+cell": {
     "cellMetadata": {
      "byteLimit": 2048000,
      "rowLimit": 10000
     },
     "inputWidgets": {},
     "nuid": "9a7a8cee-b6f4-44ee-b60d-d3345651b755",
     "showTitle": false,
     "tableResultSettingsMap": {},
     "title": ""
    }
   },
   "outputs": [
    {
     "output_type": "stream",
     "name": "stdout",
     "output_type": "stream",
     "text": [
      "root\n |-- Emp_ID: string (nullable = true)\n |-- Name: string (nullable = true)\n |-- Department: string (nullable = true)\n |-- Role: string (nullable = true)\n |-- Salary: string (nullable = true)\n |-- Experience: string (nullable = true)\n |-- Joining_Date: string (nullable = true)\n |-- Performance_Score: string (nullable = true)\n |-- Bonus: string (nullable = true)\n\n"
     ]
    }
   ],
   "source": [
    "empdata_df.printSchema()\n",
    "\n"
   ]
  },
  {
   "cell_type": "code",
   "execution_count": 0,
   "metadata": {
    "application/vnd.databricks.v1+cell": {
     "cellMetadata": {
      "byteLimit": 2048000,
      "rowLimit": 10000
     },
     "inputWidgets": {},
     "nuid": "9e1b7f36-1e3f-4f53-88f3-f17691870d09",
     "showTitle": false,
     "tableResultSettingsMap": {},
     "title": ""
    }
   },
   "outputs": [],
   "source": [
    "from pyspark.sql import SparkSession\n"
   ]
  },
  {
   "cell_type": "code",
   "execution_count": 0,
   "metadata": {
    "application/vnd.databricks.v1+cell": {
     "cellMetadata": {
      "byteLimit": 2048000,
      "rowLimit": 10000
     },
     "inputWidgets": {},
     "nuid": "8d55d285-b4a3-44d5-b793-d42b641ff052",
     "showTitle": false,
     "tableResultSettingsMap": {},
     "title": ""
    }
   },
   "outputs": [
    {
     "output_type": "stream",
     "name": "stdout",
     "output_type": "stream",
     "text": [
      "Number of Columns: 9\n"
     ]
    }
   ],
   "source": [
    "num_columns = len(empdata_df.columns)\n",
    "print(f\"Number of Columns: {num_columns}\")"
   ]
  },
  {
   "cell_type": "code",
   "execution_count": 0,
   "metadata": {
    "application/vnd.databricks.v1+cell": {
     "cellMetadata": {
      "byteLimit": 2048000,
      "rowLimit": 10000
     },
     "inputWidgets": {},
     "nuid": "ea32b1a8-e0ee-4c92-8427-40aadf075743",
     "showTitle": false,
     "tableResultSettingsMap": {},
     "title": ""
    }
   },
   "outputs": [
    {
     "output_type": "stream",
     "name": "stdout",
     "output_type": "stream",
     "text": [
      "Number of Rows: 19\n"
     ]
    }
   ],
   "source": [
    "num_rows = empdata_df.count()\n",
    "print(f\"Number of Rows: {num_rows}\")"
   ]
  },
  {
   "cell_type": "code",
   "execution_count": 0,
   "metadata": {
    "application/vnd.databricks.v1+cell": {
     "cellMetadata": {
      "byteLimit": 2048000,
      "rowLimit": 10000
     },
     "inputWidgets": {},
     "nuid": "9d6ecb57-c47d-4b97-a14b-2b34e9fdd1a7",
     "showTitle": false,
     "tableResultSettingsMap": {},
     "title": ""
    }
   },
   "outputs": [
    {
     "output_type": "execute_result",
     "data": {
      "text/plain": [
       "['Emp_ID',\n",
       " 'Name',\n",
       " 'Department',\n",
       " 'Role',\n",
       " 'Salary',\n",
       " 'Experience',\n",
       " 'Joining_Date',\n",
       " 'Performance_Score',\n",
       " 'Bonus']"
      ]
     },
     "execution_count": 12,
     "metadata": {},
     "output_type": "execute_result"
    }
   ],
   "source": [
    "empdata_df.columns"
   ]
  },
  {
   "cell_type": "code",
   "execution_count": 0,
   "metadata": {
    "application/vnd.databricks.v1+cell": {
     "cellMetadata": {
      "byteLimit": 2048000,
      "rowLimit": 10000
     },
     "inputWidgets": {},
     "nuid": "9e30fd5d-65c0-415f-b61f-efde937bd9a5",
     "showTitle": false,
     "tableResultSettingsMap": {},
     "title": ""
    }
   },
   "outputs": [],
   "source": [
    "from pyspark.sql import SparkSession\n",
    "from pyspark.sql.functions import lit, col"
   ]
  },
  {
   "cell_type": "code",
   "execution_count": 0,
   "metadata": {
    "application/vnd.databricks.v1+cell": {
     "cellMetadata": {
      "byteLimit": 2048000,
      "rowLimit": 10000
     },
     "inputWidgets": {},
     "nuid": "b257dc38-ee0d-4398-81a2-16bfcab105f5",
     "showTitle": false,
     "tableResultSettingsMap": {},
     "title": ""
    }
   },
   "outputs": [
    {
     "output_type": "stream",
     "name": "stdout",
     "output_type": "stream",
     "text": [
      "+------+------+----------+-------------+------+----------+------------+-----------------+-----+\n|Emp_ID|  Name|Department|         Role|Salary|Experience|Joining_Date|Performance_Score|Bonus|\n+------+------+----------+-------------+------+----------+------------+-----------------+-----+\n|  E101|Ananya|        HR|      Manager| 75000|         8|  2016-05-12|               89| 5000|\n|  E102| Rahul|   Finance|      Analyst| 62000|         5|  2019-07-20|               76| 3500|\n|  E103| Divya|        IT|    Developer| 55000|         3|  2021-03-14|               80| 4000|\n|  E104|Ashwin|        IT|    Developer| 58000|         4|  2020-09-11|               92| 4200|\n|  E105| Kiran|     Sales|    Executive| 48000|         2|  2022-01-05|               67| NULL|\n|  E106| Leena|   Finance|      Manager| 82000|         9|  2015-02-25|               95| 6000|\n|  E107| Sneha|        HR|    Recruiter| 50000|         3|  2021-08-18|             NULL| 3000|\n|  E108|Vikram|        IT|       Tester| 53000|         4|  2020-06-09|               73| 3200|\n|  E109| Manoj|     Sales|    Executive|  NULL|         2|  2022-03-10|               70| 2500|\n|  E110|Roshni| Marketing|    Executive| 46000|         1|  2023-02-22|               65| 2000|\n|  E111| Aarav|   Finance|        Clerk| 40000|         1|  2023-05-15|               55| 1500|\n|  E112| Priya|        IT|    Developer| 57000|         5|  2018-12-02|               88| 4100|\n|  E113|  Ravi|     Sales|      Manager| 76000|        10|  2013-09-27|               90| 5500|\n|  E114| Meena|        HR|    Executive| 47000|         2|  2022-06-30|               75| 2800|\n|  E115| Kavya|        IT|       Tester| 52000|         4|  2020-10-18|             NULL| 3100|\n|  E116|Aditya|        IT|Data Engineer| 68000|         6|  2018-07-19|               84| 4500|\n|  E117|  Neha| Marketing|      Manager| 71000|         7|  2017-04-23|               91| 5200|\n|  E118| Rohan|   Finance|      Analyst| 60000|         4|  2020-09-09|               78| NULL|\n|  E119| Tanya|     Sales|    Executive| 49000|         3|  2021-12-10|               69| 2600|\n+------+------+----------+-------------+------+----------+------------+-----------------+-----+\n\nroot\n |-- Emp_ID: string (nullable = true)\n |-- Name: string (nullable = true)\n |-- Department: string (nullable = true)\n |-- Role: string (nullable = true)\n |-- Salary: integer (nullable = true)\n |-- Experience: integer (nullable = true)\n |-- Joining_Date: date (nullable = true)\n |-- Performance_Score: integer (nullable = true)\n |-- Bonus: integer (nullable = true)\n\n"
     ]
    }
   ],
   "source": [
    "from pyspark.sql.functions import *\n",
    "from pyspark.sql.types import *\n",
    "\n",
    "empdata_df = spark.read.format(\"csv\")\\\n",
    "    .option(\"header\",\"true\")\\\n",
    "    .option(\"inferschema\",\"true\")\\\n",
    "    .option(\"mode\",\"PERMISSIVE\")\\\n",
    "    .load(\"/Volumes/workspace/empdata/empdata/empdata.csv\")\n",
    "empdata_df.show()\n",
    "\n",
    "empdata_df.printSchema()\n",
    "\n"
   ]
  },
  {
   "cell_type": "code",
   "execution_count": 0,
   "metadata": {
    "application/vnd.databricks.v1+cell": {
     "cellMetadata": {
      "byteLimit": 2048000,
      "rowLimit": 10000
     },
     "inputWidgets": {},
     "nuid": "23106e19-e824-4e52-ab87-cb49e0ef1d20",
     "showTitle": false,
     "tableResultSettingsMap": {},
     "title": ""
    }
   },
   "outputs": [
    {
     "output_type": "stream",
     "name": "stdout",
     "output_type": "stream",
     "text": [
      "+-------+------+----------+\n|empName|Emp_ID|Department|\n+-------+------+----------+\n| Ananya|  E101|        HR|\n|  Rahul|  E102|   Finance|\n|  Divya|  E103|        IT|\n| Ashwin|  E104|        IT|\n|  Kiran|  E105|     Sales|\n+-------+------+----------+\nonly showing top 5 rows\n"
     ]
    }
   ],
   "source": [
    "empdata_df.select(col(\"Name\").alias(\"empName\"),\"Emp_ID\",\"Department\").show(5)"
   ]
  },
  {
   "cell_type": "code",
   "execution_count": 0,
   "metadata": {
    "application/vnd.databricks.v1+cell": {
     "cellMetadata": {
      "byteLimit": 2048000,
      "rowLimit": 10000
     },
     "inputWidgets": {},
     "nuid": "c186ca33-087d-43e8-a2cc-d062cb9a08e2",
     "showTitle": false,
     "tableResultSettingsMap": {},
     "title": ""
    }
   },
   "outputs": [
    {
     "output_type": "stream",
     "name": "stdout",
     "output_type": "stream",
     "text": [
      "+------+------+----------+-------------+------+----------+------------+-----------------+-----+\n|Emp_ID|  Name|Department|         Role|Salary|Experience|Joining_Date|Performance_Score|Bonus|\n+------+------+----------+-------------+------+----------+------------+-----------------+-----+\n|  E101|Ananya|        HR|      Manager| 75000|         8|  2016-05-12|               89| 5000|\n|  E102| Rahul|   Finance|      Analyst| 62000|         5|  2019-07-20|               76| 3500|\n|  E103| Divya|        IT|    Developer| 55000|         3|  2021-03-14|               80| 4000|\n|  E104|Ashwin|        IT|    Developer| 58000|         4|  2020-09-11|               92| 4200|\n|  E106| Leena|   Finance|      Manager| 82000|         9|  2015-02-25|               95| 6000|\n|  E108|Vikram|        IT|       Tester| 53000|         4|  2020-06-09|               73| 3200|\n|  E112| Priya|        IT|    Developer| 57000|         5|  2018-12-02|               88| 4100|\n|  E113|  Ravi|     Sales|      Manager| 76000|        10|  2013-09-27|               90| 5500|\n|  E115| Kavya|        IT|       Tester| 52000|         4|  2020-10-18|             NULL| 3100|\n|  E116|Aditya|        IT|Data Engineer| 68000|         6|  2018-07-19|               84| 4500|\n|  E117|  Neha| Marketing|      Manager| 71000|         7|  2017-04-23|               91| 5200|\n|  E118| Rohan|   Finance|      Analyst| 60000|         4|  2020-09-09|               78| NULL|\n+------+------+----------+-------------+------+----------+------------+-----------------+-----+\n\n"
     ]
    }
   ],
   "source": [
    "empdata_df.filter(col(\"Salary\")>50000).show()"
   ]
  },
  {
   "cell_type": "code",
   "execution_count": 0,
   "metadata": {
    "application/vnd.databricks.v1+cell": {
     "cellMetadata": {
      "byteLimit": 2048000,
      "rowLimit": 10000
     },
     "inputWidgets": {},
     "nuid": "222c317e-c006-461d-bdd0-ecf3a8a6abd1",
     "showTitle": false,
     "tableResultSettingsMap": {},
     "title": ""
    }
   },
   "outputs": [
    {
     "output_type": "stream",
     "name": "stdout",
     "output_type": "stream",
     "text": [
      "+------+------+----------+-------------+------+----------+------------+-----------------+-----+\n|Emp_ID|  Name|Department|         Role|Salary|Experience|Joining_Date|Performance_Score|Bonus|\n+------+------+----------+-------------+------+----------+------------+-----------------+-----+\n|  E101|Ananya|        HR|      Manager| 75000|         8|  2016-05-12|               90| 5000|\n|  E102| Rahul|   Finance|      Analyst| 62000|         5|  2019-07-20|               90| 3500|\n|  E103| Divya|        IT|    Developer| 55000|         3|  2021-03-14|               90| 4000|\n|  E104|Ashwin|        IT|    Developer| 58000|         4|  2020-09-11|               90| 4200|\n|  E105| Kiran|     Sales|    Executive| 48000|         2|  2022-01-05|               90| NULL|\n|  E106| Leena|   Finance|      Manager| 82000|         9|  2015-02-25|               90| 6000|\n|  E107| Sneha|        HR|    Recruiter| 50000|         3|  2021-08-18|               90| 3000|\n|  E108|Vikram|        IT|       Tester| 53000|         4|  2020-06-09|               90| 3200|\n|  E109| Manoj|     Sales|    Executive|  NULL|         2|  2022-03-10|               90| 2500|\n|  E110|Roshni| Marketing|    Executive| 46000|         1|  2023-02-22|               90| 2000|\n|  E111| Aarav|   Finance|        Clerk| 40000|         1|  2023-05-15|               90| 1500|\n|  E112| Priya|        IT|    Developer| 57000|         5|  2018-12-02|               90| 4100|\n|  E113|  Ravi|     Sales|      Manager| 76000|        10|  2013-09-27|               90| 5500|\n|  E114| Meena|        HR|    Executive| 47000|         2|  2022-06-30|               90| 2800|\n|  E115| Kavya|        IT|       Tester| 52000|         4|  2020-10-18|               90| 3100|\n|  E116|Aditya|        IT|Data Engineer| 68000|         6|  2018-07-19|               90| 4500|\n|  E117|  Neha| Marketing|      Manager| 71000|         7|  2017-04-23|               90| 5200|\n|  E118| Rohan|   Finance|      Analyst| 60000|         4|  2020-09-09|               90| NULL|\n|  E119| Tanya|     Sales|    Executive| 49000|         3|  2021-12-10|               90| 2600|\n+------+------+----------+-------------+------+----------+------------+-----------------+-----+\n\n"
     ]
    }
   ],
   "source": [
    "empdata_df.withColumn(\"Performance_Score\",lit(\"90\")).show()"
   ]
  },
  {
   "cell_type": "code",
   "execution_count": 0,
   "metadata": {
    "application/vnd.databricks.v1+cell": {
     "cellMetadata": {
      "byteLimit": 2048000,
      "rowLimit": 10000
     },
     "inputWidgets": {},
     "nuid": "7e511d07-ff63-4b60-863e-19ac9d20dd9c",
     "showTitle": false,
     "tableResultSettingsMap": {},
     "title": ""
    }
   },
   "outputs": [
    {
     "output_type": "stream",
     "name": "stdout",
     "output_type": "stream",
     "text": [
      "+------+------+----------+-------------+------+----------+------------+-----------------+-----+------------+\n|Emp_ID|  Name|Department|         Role|Salary|Experience|Joining_Date|Performance_Score|Bonus|Total_Salary|\n+------+------+----------+-------------+------+----------+------------+-----------------+-----+------------+\n|  E101|Ananya|        HR|      Manager| 75000|         8|  2016-05-12|               89| 5000|       80000|\n|  E102| Rahul|   Finance|      Analyst| 62000|         5|  2019-07-20|               76| 3500|       65500|\n|  E103| Divya|        IT|    Developer| 55000|         3|  2021-03-14|               80| 4000|       59000|\n|  E104|Ashwin|        IT|    Developer| 58000|         4|  2020-09-11|               92| 4200|       62200|\n|  E105| Kiran|     Sales|    Executive| 48000|         2|  2022-01-05|               67| NULL|        NULL|\n|  E106| Leena|   Finance|      Manager| 82000|         9|  2015-02-25|               95| 6000|       88000|\n|  E107| Sneha|        HR|    Recruiter| 50000|         3|  2021-08-18|             NULL| 3000|       53000|\n|  E108|Vikram|        IT|       Tester| 53000|         4|  2020-06-09|               73| 3200|       56200|\n|  E109| Manoj|     Sales|    Executive|  NULL|         2|  2022-03-10|               70| 2500|        NULL|\n|  E110|Roshni| Marketing|    Executive| 46000|         1|  2023-02-22|               65| 2000|       48000|\n|  E111| Aarav|   Finance|        Clerk| 40000|         1|  2023-05-15|               55| 1500|       41500|\n|  E112| Priya|        IT|    Developer| 57000|         5|  2018-12-02|               88| 4100|       61100|\n|  E113|  Ravi|     Sales|      Manager| 76000|        10|  2013-09-27|               90| 5500|       81500|\n|  E114| Meena|        HR|    Executive| 47000|         2|  2022-06-30|               75| 2800|       49800|\n|  E115| Kavya|        IT|       Tester| 52000|         4|  2020-10-18|             NULL| 3100|       55100|\n|  E116|Aditya|        IT|Data Engineer| 68000|         6|  2018-07-19|               84| 4500|       72500|\n|  E117|  Neha| Marketing|      Manager| 71000|         7|  2017-04-23|               91| 5200|       76200|\n|  E118| Rohan|   Finance|      Analyst| 60000|         4|  2020-09-09|               78| NULL|        NULL|\n|  E119| Tanya|     Sales|    Executive| 49000|         3|  2021-12-10|               69| 2600|       51600|\n+------+------+----------+-------------+------+----------+------------+-----------------+-----+------------+\n\n"
     ]
    }
   ],
   "source": [
    "empdata_add = empdata_df.withColumn(\"Total_Salary\", col(\"Salary\") + col(\"Bonus\"))\n",
    "\n",
    "empdata_add.show()\n",
    "\n",
    "\n",
    "\n"
   ]
  },
  {
   "cell_type": "code",
   "execution_count": 0,
   "metadata": {
    "application/vnd.databricks.v1+cell": {
     "cellMetadata": {
      "byteLimit": 2048000,
      "rowLimit": 10000
     },
     "inputWidgets": {},
     "nuid": "da5cd440-22fc-4202-aff9-28fb3bb6a742",
     "showTitle": false,
     "tableResultSettingsMap": {},
     "title": ""
    }
   },
   "outputs": [
    {
     "output_type": "stream",
     "name": "stdout",
     "output_type": "stream",
     "text": [
      "+------+------+----------+-------------+------+----------+----------+-----------------+-----+\n|Emp_ID|  Name|Department|         Role|Salary|Experience| Hire_Date|Performance_Score|Bonus|\n+------+------+----------+-------------+------+----------+----------+-----------------+-----+\n|  E101|Ananya|        HR|      Manager| 75000|         8|2016-05-12|               89| 5000|\n|  E102| Rahul|   Finance|      Analyst| 62000|         5|2019-07-20|               76| 3500|\n|  E103| Divya|        IT|    Developer| 55000|         3|2021-03-14|               80| 4000|\n|  E104|Ashwin|        IT|    Developer| 58000|         4|2020-09-11|               92| 4200|\n|  E105| Kiran|     Sales|    Executive| 48000|         2|2022-01-05|               67| NULL|\n|  E106| Leena|   Finance|      Manager| 82000|         9|2015-02-25|               95| 6000|\n|  E107| Sneha|        HR|    Recruiter| 50000|         3|2021-08-18|             NULL| 3000|\n|  E108|Vikram|        IT|       Tester| 53000|         4|2020-06-09|               73| 3200|\n|  E109| Manoj|     Sales|    Executive|  NULL|         2|2022-03-10|               70| 2500|\n|  E110|Roshni| Marketing|    Executive| 46000|         1|2023-02-22|               65| 2000|\n|  E111| Aarav|   Finance|        Clerk| 40000|         1|2023-05-15|               55| 1500|\n|  E112| Priya|        IT|    Developer| 57000|         5|2018-12-02|               88| 4100|\n|  E113|  Ravi|     Sales|      Manager| 76000|        10|2013-09-27|               90| 5500|\n|  E114| Meena|        HR|    Executive| 47000|         2|2022-06-30|               75| 2800|\n|  E115| Kavya|        IT|       Tester| 52000|         4|2020-10-18|             NULL| 3100|\n|  E116|Aditya|        IT|Data Engineer| 68000|         6|2018-07-19|               84| 4500|\n|  E117|  Neha| Marketing|      Manager| 71000|         7|2017-04-23|               91| 5200|\n|  E118| Rohan|   Finance|      Analyst| 60000|         4|2020-09-09|               78| NULL|\n|  E119| Tanya|     Sales|    Executive| 49000|         3|2021-12-10|               69| 2600|\n+------+------+----------+-------------+------+----------+----------+-----------------+-----+\n\n"
     ]
    }
   ],
   "source": [
    "empdata_df.withColumnRenamed(\"Joining_Date\",\"Hire_Date\").show()\n",
    "\n"
   ]
  },
  {
   "cell_type": "code",
   "execution_count": 0,
   "metadata": {
    "application/vnd.databricks.v1+cell": {
     "cellMetadata": {
      "byteLimit": 2048000,
      "rowLimit": 10000
     },
     "inputWidgets": {},
     "nuid": "36ef1ef6-182e-477b-b28e-beec94b9cf4c",
     "showTitle": false,
     "tableResultSettingsMap": {},
     "title": ""
    }
   },
   "outputs": [
    {
     "output_type": "stream",
     "name": "stdout",
     "output_type": "stream",
     "text": [
      "root\n |-- Emp_ID: string (nullable = true)\n |-- Name: string (nullable = true)\n |-- Department: string (nullable = true)\n |-- Role: string (nullable = true)\n |-- Salary: integer (nullable = true)\n |-- Experience: string (nullable = true)\n |-- Joining_Date: date (nullable = true)\n |-- Performance_Score: integer (nullable = true)\n |-- Bonus: integer (nullable = true)\n\n"
     ]
    }
   ],
   "source": [
    "empdata_df.withColumn(\"Experience\",col(\"Experience\").cast(\"string\")).printSchema()\n",
    "\n"
   ]
  },
  {
   "cell_type": "code",
   "execution_count": 0,
   "metadata": {
    "application/vnd.databricks.v1+cell": {
     "cellMetadata": {
      "byteLimit": 2048000,
      "rowLimit": 10000
     },
     "inputWidgets": {},
     "nuid": "2c397d6d-3a86-49d2-83ca-fe23748c18df",
     "showTitle": false,
     "tableResultSettingsMap": {},
     "title": ""
    }
   },
   "outputs": [
    {
     "output_type": "stream",
     "name": "stdout",
     "output_type": "stream",
     "text": [
      "+------+------+----------+-------------+------+----------+------------+-----------------+\n|Emp_ID|  Name|Department|         Role|Salary|Experience|Joining_Date|Performance_Score|\n+------+------+----------+-------------+------+----------+------------+-----------------+\n|  E101|Ananya|        HR|      Manager| 75000|         8|  2016-05-12|               89|\n|  E102| Rahul|   Finance|      Analyst| 62000|         5|  2019-07-20|               76|\n|  E103| Divya|        IT|    Developer| 55000|         3|  2021-03-14|               80|\n|  E104|Ashwin|        IT|    Developer| 58000|         4|  2020-09-11|               92|\n|  E105| Kiran|     Sales|    Executive| 48000|         2|  2022-01-05|               67|\n|  E106| Leena|   Finance|      Manager| 82000|         9|  2015-02-25|               95|\n|  E107| Sneha|        HR|    Recruiter| 50000|         3|  2021-08-18|             NULL|\n|  E108|Vikram|        IT|       Tester| 53000|         4|  2020-06-09|               73|\n|  E109| Manoj|     Sales|    Executive|  NULL|         2|  2022-03-10|               70|\n|  E110|Roshni| Marketing|    Executive| 46000|         1|  2023-02-22|               65|\n|  E111| Aarav|   Finance|        Clerk| 40000|         1|  2023-05-15|               55|\n|  E112| Priya|        IT|    Developer| 57000|         5|  2018-12-02|               88|\n|  E113|  Ravi|     Sales|      Manager| 76000|        10|  2013-09-27|               90|\n|  E114| Meena|        HR|    Executive| 47000|         2|  2022-06-30|               75|\n|  E115| Kavya|        IT|       Tester| 52000|         4|  2020-10-18|             NULL|\n|  E116|Aditya|        IT|Data Engineer| 68000|         6|  2018-07-19|               84|\n|  E117|  Neha| Marketing|      Manager| 71000|         7|  2017-04-23|               91|\n|  E118| Rohan|   Finance|      Analyst| 60000|         4|  2020-09-09|               78|\n|  E119| Tanya|     Sales|    Executive| 49000|         3|  2021-12-10|               69|\n+------+------+----------+-------------+------+----------+------------+-----------------+\n\n"
     ]
    }
   ],
   "source": [
    "empdata_df.drop(col(\"Bonus\")).show()\n",
    "\n"
   ]
  },
  {
   "cell_type": "code",
   "execution_count": 0,
   "metadata": {
    "application/vnd.databricks.v1+cell": {
     "cellMetadata": {
      "byteLimit": 2048000,
      "rowLimit": 10000
     },
     "inputWidgets": {},
     "nuid": "99360879-267b-4dff-a971-c2b0aac2c59d",
     "showTitle": false,
     "tableResultSettingsMap": {},
     "title": ""
    }
   },
   "outputs": [
    {
     "output_type": "stream",
     "name": "stdout",
     "output_type": "stream",
     "text": [
      "+------+------+----------+-------------+------+----------+------------+-----------------+-----+\n|Emp_ID|  Name|Department|         Role|Salary|Experience|Joining_Date|Performance_Score|Bonus|\n+------+------+----------+-------------+------+----------+------------+-----------------+-----+\n|  E101|Ananya|        HR|      Manager| 75000|         8|  2016-05-12|               89| 5000|\n|  E102| Rahul|   Finance|      Analyst| 62000|         5|  2019-07-20|               76| 3500|\n|  E103| Divya|        IT|    Developer| 55000|         3|  2021-03-14|               80| 4000|\n|  E104|Ashwin|        IT|    Developer| 58000|         4|  2020-09-11|               92| 4200|\n|  E106| Leena|   Finance|      Manager| 82000|         9|  2015-02-25|               95| 6000|\n|  E108|Vikram|        IT|       Tester| 53000|         4|  2020-06-09|               73| 3200|\n|  E110|Roshni| Marketing|    Executive| 46000|         1|  2023-02-22|               65| 2000|\n|  E111| Aarav|   Finance|        Clerk| 40000|         1|  2023-05-15|               55| 1500|\n|  E112| Priya|        IT|    Developer| 57000|         5|  2018-12-02|               88| 4100|\n|  E113|  Ravi|     Sales|      Manager| 76000|        10|  2013-09-27|               90| 5500|\n|  E114| Meena|        HR|    Executive| 47000|         2|  2022-06-30|               75| 2800|\n|  E116|Aditya|        IT|Data Engineer| 68000|         6|  2018-07-19|               84| 4500|\n|  E117|  Neha| Marketing|      Manager| 71000|         7|  2017-04-23|               91| 5200|\n|  E119| Tanya|     Sales|    Executive| 49000|         3|  2021-12-10|               69| 2600|\n+------+------+----------+-------------+------+----------+------------+-----------------+-----+\n\n"
     ]
    }
   ],
   "source": [
    "empdata_df_cleaned = empdata_df.na.drop()\n",
    "\n",
    "\n",
    "empdata_df_cleaned.show()"
   ]
  },
  {
   "cell_type": "code",
   "execution_count": 0,
   "metadata": {
    "application/vnd.databricks.v1+cell": {
     "cellMetadata": {
      "byteLimit": 2048000,
      "rowLimit": 10000
     },
     "inputWidgets": {},
     "nuid": "d4f1b6bd-2a1a-4cbf-8641-119c7033eae1",
     "showTitle": false,
     "tableResultSettingsMap": {},
     "title": ""
    }
   },
   "outputs": [],
   "source": [
    "empdata_df_filled = empdata_df.fillna({\n",
    "    \"Salary\": 25000,\n",
    "    \"Experience\": 1,\n",
    "    \"Department\": \"Unknown\",\n",
    "    \"Performance_Score\": 3.0,\n",
    "    \"Bonus\": 0\n",
    "})\n"
   ]
  },
  {
   "cell_type": "code",
   "execution_count": 0,
   "metadata": {
    "application/vnd.databricks.v1+cell": {
     "cellMetadata": {
      "byteLimit": 2048000,
      "rowLimit": 10000
     },
     "inputWidgets": {},
     "nuid": "2d8d65e1-41ba-479b-abc3-8f9ff1241efc",
     "showTitle": false,
     "tableResultSettingsMap": {},
     "title": ""
    }
   },
   "outputs": [
    {
     "output_type": "stream",
     "name": "stdout",
     "output_type": "stream",
     "text": [
      "+------+----+----------+----+------+----------+------------+-----------------+-----+\n|Emp_ID|Name|Department|Role|Salary|Experience|Joining_Date|Performance_Score|Bonus|\n+------+----+----------+----+------+----------+------------+-----------------+-----+\n|     0|   0|         0|   0|     1|         0|           0|                2|    2|\n+------+----+----------+----+------+----------+------------+-----------------+-----+\n\n"
     ]
    }
   ],
   "source": [
    "empdata_df.select([count(when(col(c).isNull(), c)).alias(c) for c in empdata_df.columns]).show()\n"
   ]
  },
  {
   "cell_type": "code",
   "execution_count": 0,
   "metadata": {
    "application/vnd.databricks.v1+cell": {
     "cellMetadata": {
      "byteLimit": 2048000,
      "rowLimit": 10000
     },
     "inputWidgets": {},
     "nuid": "6d4647df-3d01-4d09-bc4e-f2f1e4b5629c",
     "showTitle": false,
     "tableResultSettingsMap": {},
     "title": ""
    }
   },
   "outputs": [
    {
     "output_type": "stream",
     "name": "stdout",
     "output_type": "stream",
     "text": [
      "+------+------+----------+-------------+------+----------+------------+-----------------+-----+\n|Emp_ID|  Name|Department|         Role|Salary|Experience|Joining_Date|Performance_Score|Bonus|\n+------+------+----------+-------------+------+----------+------------+-----------------+-----+\n|  E101|Ananya|        HR|      Manager| 75000|         8|  2016-05-12|               89| 5000|\n|  E102| Rahul|   Finance|      Analyst| 62000|         5|  2019-07-20|               76| 3500|\n|  E103| Divya|        IT|    Developer| 55000|         3|  2021-03-14|               80| 4000|\n|  E104|Ashwin|        IT|    Developer| 58000|         4|  2020-09-11|               92| 4200|\n|  E105| Kiran|     Sales|    Executive| 48000|         2|  2022-01-05|               67| 2000|\n|  E106| Leena|   Finance|      Manager| 82000|         9|  2015-02-25|               95| 6000|\n|  E107| Sneha|        HR|    Recruiter| 50000|         3|  2021-08-18|               75| 3000|\n|  E108|Vikram|        IT|       Tester| 53000|         4|  2020-06-09|               73| 3200|\n|  E109| Manoj|     Sales|    Executive| 50000|         2|  2022-03-10|               70| 2500|\n|  E110|Roshni| Marketing|    Executive| 46000|         1|  2023-02-22|               65| 2000|\n|  E111| Aarav|   Finance|        Clerk| 40000|         1|  2023-05-15|               55| 1500|\n|  E112| Priya|        IT|    Developer| 57000|         5|  2018-12-02|               88| 4100|\n|  E113|  Ravi|     Sales|      Manager| 76000|        10|  2013-09-27|               90| 5500|\n|  E114| Meena|        HR|    Executive| 47000|         2|  2022-06-30|               75| 2800|\n|  E115| Kavya|        IT|       Tester| 52000|         4|  2020-10-18|               75| 3100|\n|  E116|Aditya|        IT|Data Engineer| 68000|         6|  2018-07-19|               84| 4500|\n|  E117|  Neha| Marketing|      Manager| 71000|         7|  2017-04-23|               91| 5200|\n|  E118| Rohan|   Finance|      Analyst| 60000|         4|  2020-09-09|               78| 2000|\n|  E119| Tanya|     Sales|    Executive| 49000|         3|  2021-12-10|               69| 2600|\n+------+------+----------+-------------+------+----------+------------+-----------------+-----+\n\n"
     ]
    }
   ],
   "source": [
    "empdata_df = empdata_df\\\n",
    "    .withColumn(\"Bonus\", when(col(\"Bonus\").isNull(), lit(2000))\n",
    "                .otherwise(col(\"Bonus\")))\\\n",
    "    .withColumn(\"Performance_Score\", when(col(\"Performance_Score\").isNull(), lit(75))\n",
    "                .otherwise(col(\"Performance_Score\")))\\\n",
    "    .withColumn(\"Salary\", when(col(\"Salary\").isNull(), lit(50000))\n",
    "                .otherwise(col(\"Salary\")))\n",
    "\n",
    "\n",
    "empdata_df.show()\n",
    "\n"
   ]
  },
  {
   "cell_type": "code",
   "execution_count": 0,
   "metadata": {
    "application/vnd.databricks.v1+cell": {
     "cellMetadata": {
      "byteLimit": 2048000,
      "rowLimit": 10000
     },
     "inputWidgets": {},
     "nuid": "1c7474f1-df16-4c52-8830-b7fe99018436",
     "showTitle": false,
     "tableResultSettingsMap": {},
     "title": ""
    }
   },
   "outputs": [],
   "source": [
    "empdata_df.write.format(\"csv\")\\\n",
    "         .option(\"header\",\"true\")\\\n",
    "         .option(\"mode\",\"overwrite\")\\\n",
    "         .option(\"path\",\"/Volumes/workspace/empdata/empdata/csv_write\")\\\n",
    "         .save()"
   ]
  },
  {
   "cell_type": "code",
   "execution_count": 0,
   "metadata": {
    "application/vnd.databricks.v1+cell": {
     "cellMetadata": {
      "byteLimit": 2048000,
      "rowLimit": 10000
     },
     "inputWidgets": {},
     "nuid": "8f77b78d-5609-4a83-b289-a875a29203bc",
     "showTitle": false,
     "tableResultSettingsMap": {},
     "title": ""
    }
   },
   "outputs": [
    {
     "output_type": "display_data",
     "data": {
      "text/html": [
       "<style scoped>\n",
       "  .table-result-container {\n",
       "    max-height: 300px;\n",
       "    overflow: auto;\n",
       "  }\n",
       "  table, th, td {\n",
       "    border: 1px solid black;\n",
       "    border-collapse: collapse;\n",
       "  }\n",
       "  th, td {\n",
       "    padding: 5px;\n",
       "  }\n",
       "  th {\n",
       "    text-align: left;\n",
       "  }\n",
       "</style><div class='table-result-container'><table class='table-result'><thead style='background-color: white'><tr><th>path</th><th>name</th><th>size</th><th>modificationTime</th></tr></thead><tbody><tr><td>dbfs:/Volumes/workspace/empdata/empdata/csv_write/</td><td>csv_write/</td><td>0</td><td>1761886542007</td></tr><tr><td>dbfs:/Volumes/workspace/empdata/empdata/empdata.csv</td><td>empdata.csv</td><td>1087</td><td>1761845868000</td></tr></tbody></table></div>"
      ]
     },
     "metadata": {
      "application/vnd.databricks.v1+output": {
       "addedWidgets": {},
       "aggData": [],
       "aggError": "",
       "aggOverflow": false,
       "aggSchema": [],
       "aggSeriesLimitReached": false,
       "aggType": "",
       "arguments": {},
       "columnCustomDisplayInfos": {},
       "data": [
        [
         "dbfs:/Volumes/workspace/empdata/empdata/csv_write/",
         "csv_write/",
         0,
         1761886542007
        ],
        [
         "dbfs:/Volumes/workspace/empdata/empdata/empdata.csv",
         "empdata.csv",
         1087,
         1761845868000
        ]
       ],
       "datasetInfos": [],
       "dbfsResultPath": null,
       "isJsonSchema": true,
       "metadata": {},
       "overflow": false,
       "plotOptions": {
        "customPlotOptions": {},
        "displayType": "table",
        "pivotAggregation": null,
        "pivotColumns": null,
        "xColumns": null,
        "yColumns": null
       },
       "removedWidgets": [],
       "schema": [
        {
         "metadata": "{}",
         "name": "path",
         "type": "\"string\""
        },
        {
         "metadata": "{}",
         "name": "name",
         "type": "\"string\""
        },
        {
         "metadata": "{}",
         "name": "size",
         "type": "\"long\""
        },
        {
         "metadata": "{}",
         "name": "modificationTime",
         "type": "\"long\""
        }
       ],
       "type": "table"
      }
     },
     "output_type": "display_data"
    }
   ],
   "source": [
    "%fs ls /Volumes/workspace/empdata/empdata/"
   ]
  }
 ],
 "metadata": {
  "application/vnd.databricks.v1+notebook": {
   "computePreferences": null,
   "dashboards": [],
   "environmentMetadata": {
    "base_environment": "",
    "environment_version": "4"
   },
   "inputWidgetPreferences": null,
   "language": "python",
   "notebookMetadata": {
    "mostRecentlyExecutedCommandWithImplicitDF": {
     "commandId": 8392331761881302,
     "dataframes": [
      "_sqldf"
     ]
    },
    "pythonIndentUnit": 4
   },
   "notebookName": "Thrisha P Shetty(4SF23CI175)",
   "widgets": {}
  },
  "language_info": {
   "name": "python"
  }
 },
 "nbformat": 4,
 "nbformat_minor": 0
}